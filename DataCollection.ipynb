{
 "cells": [
  {
   "cell_type": "code",
   "execution_count": 1,
   "metadata": {},
   "outputs": [],
   "source": [
    "import pandas as pd\n",
    "import numpy as np\n",
    "import yfinance as yf\n",
    "from fredapi import Fred\n",
    "import requests\n",
    "from datetime import datetime\n",
    "import seaborn as sns\n",
    "from functools import reduce"
   ]
  },
  {
   "cell_type": "markdown",
   "metadata": {},
   "source": [
    "#### DATA COLLECTION"
   ]
  },
  {
   "cell_type": "markdown",
   "metadata": {},
   "source": [
    "fred = Fred(api_key='d85eb85e4c7b9c4a6162731e87702c0c')\n",
    "stock_price = yf.download('^GSPC' , start='1950-01-01',end='2024-11-28',interval=\"1mo\")\n",
    "stock_price = stock_price['Adj Close']\n",
    "stock_price = stock_price.dropna(axis=0)\n",
    "\n",
    "tickers = ['M2V','UNRATE','CPIAUCNS','PPIACO','FEDFUNDS','NFCI','DTWEXBGS']\n",
    "\n",
    "\n",
    "ticker_data = {}\n",
    "for ticker in tickers:\n",
    "    \n",
    "    data = {'Date': fred.get_series(ticker).index,\n",
    "            ticker: fred.get_series(ticker).values\n",
    "           }\n",
    "    ticker_data[ticker + \"_data\"] = pd.DataFrame(data)\n",
    "    \n",
    "    \n",
    "    \n",
    "\n",
    "dataframes = [ticker_data['M2V_data'], ticker_data['UNRATE_data'],ticker_data['CPIAUCNS_data'],ticker_data['PPIACO_data'],ticker_data['FEDFUNDS_data'],stock_price]\n",
    "\n",
    "data = reduce(lambda left, right: pd.merge(left, right, on='Date', how='outer'), dataframes)\n",
    "\n",
    "\n",
    "\n",
    "data = data.sort_values(by='Date',ascending=True,ignore_index=True)\n",
    "data = data[data['Date']>'1984-12-30'].sort_values(by='Date',ascending=True,ignore_index=True)\n",
    "\n",
    "data.to_csv('Initial_data.csv',index=False)"
   ]
  },
  {
   "cell_type": "code",
   "execution_count": 67,
   "metadata": {},
   "outputs": [
    {
     "data": {
      "text/html": [
       "<div>\n",
       "<style scoped>\n",
       "    .dataframe tbody tr th:only-of-type {\n",
       "        vertical-align: middle;\n",
       "    }\n",
       "\n",
       "    .dataframe tbody tr th {\n",
       "        vertical-align: top;\n",
       "    }\n",
       "\n",
       "    .dataframe thead th {\n",
       "        text-align: right;\n",
       "    }\n",
       "</style>\n",
       "<table border=\"1\" class=\"dataframe\">\n",
       "  <thead>\n",
       "    <tr style=\"text-align: right;\">\n",
       "      <th></th>\n",
       "      <th>Date</th>\n",
       "      <th>M2V</th>\n",
       "      <th>UNRATE</th>\n",
       "      <th>CPIAUCNS</th>\n",
       "      <th>PPIACO</th>\n",
       "      <th>FEDFUNDS</th>\n",
       "      <th>Adj Close</th>\n",
       "    </tr>\n",
       "  </thead>\n",
       "  <tbody>\n",
       "    <tr>\n",
       "      <th>0</th>\n",
       "      <td>1985-01-01</td>\n",
       "      <td>1.799</td>\n",
       "      <td>7.3</td>\n",
       "      <td>105.5</td>\n",
       "      <td>103.4</td>\n",
       "      <td>8.35</td>\n",
       "      <td>179.630005</td>\n",
       "    </tr>\n",
       "    <tr>\n",
       "      <th>1</th>\n",
       "      <td>1985-02-01</td>\n",
       "      <td>NaN</td>\n",
       "      <td>7.2</td>\n",
       "      <td>106.0</td>\n",
       "      <td>103.3</td>\n",
       "      <td>8.50</td>\n",
       "      <td>181.179993</td>\n",
       "    </tr>\n",
       "    <tr>\n",
       "      <th>2</th>\n",
       "      <td>1985-03-01</td>\n",
       "      <td>NaN</td>\n",
       "      <td>7.2</td>\n",
       "      <td>106.4</td>\n",
       "      <td>103.1</td>\n",
       "      <td>8.58</td>\n",
       "      <td>180.660004</td>\n",
       "    </tr>\n",
       "    <tr>\n",
       "      <th>3</th>\n",
       "      <td>1985-04-01</td>\n",
       "      <td>1.795</td>\n",
       "      <td>7.3</td>\n",
       "      <td>106.9</td>\n",
       "      <td>103.3</td>\n",
       "      <td>8.27</td>\n",
       "      <td>179.830002</td>\n",
       "    </tr>\n",
       "    <tr>\n",
       "      <th>4</th>\n",
       "      <td>1985-05-01</td>\n",
       "      <td>NaN</td>\n",
       "      <td>7.2</td>\n",
       "      <td>107.3</td>\n",
       "      <td>103.5</td>\n",
       "      <td>7.97</td>\n",
       "      <td>189.550003</td>\n",
       "    </tr>\n",
       "  </tbody>\n",
       "</table>\n",
       "</div>"
      ],
      "text/plain": [
       "        Date    M2V  UNRATE  CPIAUCNS  PPIACO  FEDFUNDS   Adj Close\n",
       "0 1985-01-01  1.799     7.3     105.5   103.4      8.35  179.630005\n",
       "1 1985-02-01    NaN     7.2     106.0   103.3      8.50  181.179993\n",
       "2 1985-03-01    NaN     7.2     106.4   103.1      8.58  180.660004\n",
       "3 1985-04-01  1.795     7.3     106.9   103.3      8.27  179.830002\n",
       "4 1985-05-01    NaN     7.2     107.3   103.5      7.97  189.550003"
      ]
     },
     "execution_count": 67,
     "metadata": {},
     "output_type": "execute_result"
    }
   ],
   "source": [
    "df = pd.read_csv('Initial_data.csv')\n",
    "df['Date'] = pd.to_datetime(df['Date'])\n",
    "df.head()"
   ]
  },
  {
   "cell_type": "code",
   "execution_count": 82,
   "metadata": {},
   "outputs": [
    {
     "name": "stderr",
     "output_type": "stream",
     "text": [
      "C:\\Users\\ASUS ROG\\AppData\\Local\\Temp\\ipykernel_15084\\1191620724.py:1: FutureWarning: Series.fillna with 'method' is deprecated and will raise in a future version. Use obj.ffill() or obj.bfill() instead.\n",
      "  df['M2V'] = df['M2V'].fillna(method='ffill')\n"
     ]
    },
    {
     "data": {
      "text/html": [
       "<div>\n",
       "<style scoped>\n",
       "    .dataframe tbody tr th:only-of-type {\n",
       "        vertical-align: middle;\n",
       "    }\n",
       "\n",
       "    .dataframe tbody tr th {\n",
       "        vertical-align: top;\n",
       "    }\n",
       "\n",
       "    .dataframe thead th {\n",
       "        text-align: right;\n",
       "    }\n",
       "</style>\n",
       "<table border=\"1\" class=\"dataframe\">\n",
       "  <thead>\n",
       "    <tr style=\"text-align: right;\">\n",
       "      <th></th>\n",
       "      <th>Date</th>\n",
       "      <th>M2V</th>\n",
       "      <th>UNRATE</th>\n",
       "      <th>CPIAUCNS</th>\n",
       "      <th>PPIACO</th>\n",
       "      <th>FEDFUNDS</th>\n",
       "      <th>Adj Close</th>\n",
       "    </tr>\n",
       "  </thead>\n",
       "  <tbody>\n",
       "    <tr>\n",
       "      <th>474</th>\n",
       "      <td>2024-07-01</td>\n",
       "      <td>1.389</td>\n",
       "      <td>4.3</td>\n",
       "      <td>314.540</td>\n",
       "      <td>257.326</td>\n",
       "      <td>5.33</td>\n",
       "      <td>5522.299805</td>\n",
       "    </tr>\n",
       "    <tr>\n",
       "      <th>475</th>\n",
       "      <td>2024-08-01</td>\n",
       "      <td>1.389</td>\n",
       "      <td>4.2</td>\n",
       "      <td>314.796</td>\n",
       "      <td>255.394</td>\n",
       "      <td>5.33</td>\n",
       "      <td>5648.399902</td>\n",
       "    </tr>\n",
       "    <tr>\n",
       "      <th>476</th>\n",
       "      <td>2024-09-01</td>\n",
       "      <td>1.389</td>\n",
       "      <td>4.1</td>\n",
       "      <td>315.301</td>\n",
       "      <td>252.737</td>\n",
       "      <td>5.13</td>\n",
       "      <td>5762.479980</td>\n",
       "    </tr>\n",
       "    <tr>\n",
       "      <th>477</th>\n",
       "      <td>2024-10-01</td>\n",
       "      <td>1.389</td>\n",
       "      <td>4.1</td>\n",
       "      <td>315.664</td>\n",
       "      <td>253.452</td>\n",
       "      <td>4.83</td>\n",
       "      <td>5705.450195</td>\n",
       "    </tr>\n",
       "    <tr>\n",
       "      <th>478</th>\n",
       "      <td>2024-11-01</td>\n",
       "      <td>1.389</td>\n",
       "      <td>4.2</td>\n",
       "      <td>NaN</td>\n",
       "      <td>NaN</td>\n",
       "      <td>4.64</td>\n",
       "      <td>6032.379883</td>\n",
       "    </tr>\n",
       "  </tbody>\n",
       "</table>\n",
       "</div>"
      ],
      "text/plain": [
       "          Date    M2V  UNRATE  CPIAUCNS   PPIACO  FEDFUNDS    Adj Close\n",
       "474 2024-07-01  1.389     4.3   314.540  257.326      5.33  5522.299805\n",
       "475 2024-08-01  1.389     4.2   314.796  255.394      5.33  5648.399902\n",
       "476 2024-09-01  1.389     4.1   315.301  252.737      5.13  5762.479980\n",
       "477 2024-10-01  1.389     4.1   315.664  253.452      4.83  5705.450195\n",
       "478 2024-11-01  1.389     4.2       NaN      NaN      4.64  6032.379883"
      ]
     },
     "execution_count": 82,
     "metadata": {},
     "output_type": "execute_result"
    }
   ],
   "source": [
    "df['M2V'] = df['M2V'].fillna(method='ffill')\n",
    "df.tail()"
   ]
  },
  {
   "cell_type": "code",
   "execution_count": 89,
   "metadata": {},
   "outputs": [
    {
     "data": {
      "text/html": [
       "<div>\n",
       "<style scoped>\n",
       "    .dataframe tbody tr th:only-of-type {\n",
       "        vertical-align: middle;\n",
       "    }\n",
       "\n",
       "    .dataframe tbody tr th {\n",
       "        vertical-align: top;\n",
       "    }\n",
       "\n",
       "    .dataframe thead th {\n",
       "        text-align: right;\n",
       "    }\n",
       "</style>\n",
       "<table border=\"1\" class=\"dataframe\">\n",
       "  <thead>\n",
       "    <tr style=\"text-align: right;\">\n",
       "      <th></th>\n",
       "      <th>DATE</th>\n",
       "      <th>DCOILWTICO</th>\n",
       "    </tr>\n",
       "  </thead>\n",
       "  <tbody>\n",
       "    <tr>\n",
       "      <th>0</th>\n",
       "      <td>1986-01-02</td>\n",
       "      <td>25.56</td>\n",
       "    </tr>\n",
       "    <tr>\n",
       "      <th>1</th>\n",
       "      <td>1986-01-03</td>\n",
       "      <td>26.00</td>\n",
       "    </tr>\n",
       "    <tr>\n",
       "      <th>2</th>\n",
       "      <td>1986-01-06</td>\n",
       "      <td>26.53</td>\n",
       "    </tr>\n",
       "    <tr>\n",
       "      <th>3</th>\n",
       "      <td>1986-01-07</td>\n",
       "      <td>25.85</td>\n",
       "    </tr>\n",
       "    <tr>\n",
       "      <th>4</th>\n",
       "      <td>1986-01-08</td>\n",
       "      <td>25.87</td>\n",
       "    </tr>\n",
       "  </tbody>\n",
       "</table>\n",
       "</div>"
      ],
      "text/plain": [
       "        DATE DCOILWTICO\n",
       "0 1986-01-02      25.56\n",
       "1 1986-01-03      26.00\n",
       "2 1986-01-06      26.53\n",
       "3 1986-01-07      25.85\n",
       "4 1986-01-08      25.87"
      ]
     },
     "execution_count": 89,
     "metadata": {},
     "output_type": "execute_result"
    }
   ],
   "source": [
    "oil = pd.read_csv(\"F:/Okanagan College/3rd Semester/DSCI 401/Project/DCOILWTICO.csv\")\n",
    "oil['DATE'] = pd.to_datetime(oil['DATE'])\n",
    "oil.head()"
   ]
  },
  {
   "cell_type": "code",
   "execution_count": 90,
   "metadata": {},
   "outputs": [],
   "source": [
    "filtered_df = oil[oil['DATE'].dt.day==1].reset_index(drop=True)\n",
    "filtered_df['DATE'] = pd.to_datetime(filtered_df['DATE'])"
   ]
  },
  {
   "cell_type": "code",
   "execution_count": 91,
   "metadata": {},
   "outputs": [],
   "source": [
    "filtered_df.rename(columns={'DATE': 'Date'}, inplace=True)"
   ]
  },
  {
   "cell_type": "code",
   "execution_count": 98,
   "metadata": {},
   "outputs": [
    {
     "name": "stderr",
     "output_type": "stream",
     "text": [
      "C:\\Users\\ASUS ROG\\AppData\\Local\\Temp\\ipykernel_15084\\2824773197.py:4: FutureWarning: Series.fillna with 'method' is deprecated and will raise in a future version. Use obj.ffill() or obj.bfill() instead.\n",
      "  data['DCOILWTICO'] = data['DCOILWTICO'].fillna(method='ffill')\n"
     ]
    }
   ],
   "source": [
    "from functools import reduce\n",
    "dataframes = [df,filtered_df]\n",
    "data = reduce(lambda left, right: pd.merge(left, right, on='Date', how='outer'), dataframes)\n",
    "data['DCOILWTICO'] = data['DCOILWTICO'].fillna(method='ffill')"
   ]
  },
  {
   "cell_type": "code",
   "execution_count": 177,
   "metadata": {},
   "outputs": [],
   "source": [
    "gold = pd.read_excel(\"F:/Okanagan College/3rd Semester/DSCI 401/Project/Gold Price.xlsx\")\n",
    "gold['Date'] = pd.to_datetime(gold['Date'])"
   ]
  },
  {
   "cell_type": "code",
   "execution_count": 178,
   "metadata": {},
   "outputs": [],
   "source": [
    "gold.set_index('Date', inplace=True)\n",
    "monthly_data = gold['Gold'].resample('M').first()\n",
    "\n",
    "for month_end in monthly_data.index:\n",
    "    if pd.isna(monthly_data[month_end]):\n",
    "        \n",
    "        start_of_month = month_end.replace(day=1)\n",
    "        available_data = gold_price_series[start_of_month:month_end]\n",
    "        if not available_data.empty:\n",
    "            monthly_data[month_end] = available_data.iloc[0]\n",
    "\n",
    "\n",
    "gold_filtered = monthly_data.reset_index()\n",
    "gold_filtered.columns = ['Date', 'Gold']\n",
    "gold_filtered = gold_filtered[gold_filtered['Date']>'1984-12-31'].reset_index(drop=True)\n",
    "gold_filtered['Date'] = pd.to_datetime(gold_filtered['Date'])\n",
    "gold_filtered['Date'] = gold_filtered['Date'].apply(lambda x: x.replace(day=1))"
   ]
  },
  {
   "cell_type": "code",
   "execution_count": 179,
   "metadata": {},
   "outputs": [],
   "source": [
    "dataframes = [data,gold_filtered]\n",
    "new_data = reduce(lambda left, right: pd.merge(left, right, on='Date', how='outer'), dataframes)"
   ]
  },
  {
   "cell_type": "code",
   "execution_count": 181,
   "metadata": {},
   "outputs": [
    {
     "data": {
      "text/html": [
       "<div>\n",
       "<style scoped>\n",
       "    .dataframe tbody tr th:only-of-type {\n",
       "        vertical-align: middle;\n",
       "    }\n",
       "\n",
       "    .dataframe tbody tr th {\n",
       "        vertical-align: top;\n",
       "    }\n",
       "\n",
       "    .dataframe thead th {\n",
       "        text-align: right;\n",
       "    }\n",
       "</style>\n",
       "<table border=\"1\" class=\"dataframe\">\n",
       "  <thead>\n",
       "    <tr style=\"text-align: right;\">\n",
       "      <th></th>\n",
       "      <th>Date</th>\n",
       "      <th>M2V</th>\n",
       "      <th>UNRATE</th>\n",
       "      <th>CPIAUCNS</th>\n",
       "      <th>PPIACO</th>\n",
       "      <th>FEDFUNDS</th>\n",
       "      <th>Adj Close</th>\n",
       "      <th>DCOILWTICO</th>\n",
       "      <th>Gold</th>\n",
       "    </tr>\n",
       "  </thead>\n",
       "  <tbody>\n",
       "    <tr>\n",
       "      <th>0</th>\n",
       "      <td>1985-01-01</td>\n",
       "      <td>1.799</td>\n",
       "      <td>7.3</td>\n",
       "      <td>105.5</td>\n",
       "      <td>103.4</td>\n",
       "      <td>8.35</td>\n",
       "      <td>179.630005</td>\n",
       "      <td>NaN</td>\n",
       "      <td>305.5</td>\n",
       "    </tr>\n",
       "    <tr>\n",
       "      <th>1</th>\n",
       "      <td>1985-02-01</td>\n",
       "      <td>1.799</td>\n",
       "      <td>7.2</td>\n",
       "      <td>106.0</td>\n",
       "      <td>103.3</td>\n",
       "      <td>8.50</td>\n",
       "      <td>181.179993</td>\n",
       "      <td>NaN</td>\n",
       "      <td>303.6</td>\n",
       "    </tr>\n",
       "    <tr>\n",
       "      <th>2</th>\n",
       "      <td>1985-03-01</td>\n",
       "      <td>1.799</td>\n",
       "      <td>7.2</td>\n",
       "      <td>106.4</td>\n",
       "      <td>103.1</td>\n",
       "      <td>8.58</td>\n",
       "      <td>180.660004</td>\n",
       "      <td>NaN</td>\n",
       "      <td>287.2</td>\n",
       "    </tr>\n",
       "    <tr>\n",
       "      <th>3</th>\n",
       "      <td>1985-04-01</td>\n",
       "      <td>1.795</td>\n",
       "      <td>7.3</td>\n",
       "      <td>106.9</td>\n",
       "      <td>103.3</td>\n",
       "      <td>8.27</td>\n",
       "      <td>179.830002</td>\n",
       "      <td>NaN</td>\n",
       "      <td>321.1</td>\n",
       "    </tr>\n",
       "    <tr>\n",
       "      <th>4</th>\n",
       "      <td>1985-05-01</td>\n",
       "      <td>1.795</td>\n",
       "      <td>7.2</td>\n",
       "      <td>107.3</td>\n",
       "      <td>103.5</td>\n",
       "      <td>7.97</td>\n",
       "      <td>189.550003</td>\n",
       "      <td>NaN</td>\n",
       "      <td>312.5</td>\n",
       "    </tr>\n",
       "  </tbody>\n",
       "</table>\n",
       "</div>"
      ],
      "text/plain": [
       "        Date    M2V  UNRATE  CPIAUCNS  PPIACO  FEDFUNDS   Adj Close  \\\n",
       "0 1985-01-01  1.799     7.3     105.5   103.4      8.35  179.630005   \n",
       "1 1985-02-01  1.799     7.2     106.0   103.3      8.50  181.179993   \n",
       "2 1985-03-01  1.799     7.2     106.4   103.1      8.58  180.660004   \n",
       "3 1985-04-01  1.795     7.3     106.9   103.3      8.27  179.830002   \n",
       "4 1985-05-01  1.795     7.2     107.3   103.5      7.97  189.550003   \n",
       "\n",
       "  DCOILWTICO   Gold  \n",
       "0        NaN  305.5  \n",
       "1        NaN  303.6  \n",
       "2        NaN  287.2  \n",
       "3        NaN  321.1  \n",
       "4        NaN  312.5  "
      ]
     },
     "execution_count": 181,
     "metadata": {},
     "output_type": "execute_result"
    }
   ],
   "source": [
    "new_data.head()"
   ]
  },
  {
   "cell_type": "markdown",
   "metadata": {},
   "source": [
    "## DXY"
   ]
  },
  {
   "cell_type": "code",
   "execution_count": 122,
   "metadata": {},
   "outputs": [],
   "source": [
    "data = pd.read_csv('F:/Okanagan College/3rd Semester/DSCI 401/Project/Cluster_6.csv')\n",
    "data['Date'] = pd.to_datetime(data['Date'])"
   ]
  },
  {
   "cell_type": "code",
   "execution_count": 123,
   "metadata": {},
   "outputs": [
    {
     "name": "stderr",
     "output_type": "stream",
     "text": [
      "[*********************100%%**********************]  1 of 1 completed\n"
     ]
    }
   ],
   "source": [
    "stock_price = yf.download('DX-Y.NYB' , start='1975-01-01',end='2024-11-30',interval=\"1mo\")\n",
    "stock_price = stock_price.reset_index()\n",
    "stock_price = stock_price[['Date','Adj Close']]\n",
    "stock_price['DXY'] = stock_price['Adj Close']\n",
    "stock_price.drop('Adj Close',axis=1,inplace=True)\n",
    "stock_price['Date'] = pd.to_datetime(stock_price['Date'])"
   ]
  },
  {
   "cell_type": "code",
   "execution_count": 124,
   "metadata": {},
   "outputs": [],
   "source": [
    "dataframes = [data,stock_price]\n",
    "data = reduce(lambda left, right: pd.merge(left, right, on='Date', how='inner'), dataframes)"
   ]
  },
  {
   "cell_type": "code",
   "execution_count": 126,
   "metadata": {},
   "outputs": [],
   "source": [
    "data.to_csv('Final Data.csv',index=False)"
   ]
  },
  {
   "cell_type": "code",
   "execution_count": null,
   "metadata": {},
   "outputs": [],
   "source": []
  }
 ],
 "metadata": {
  "kernelspec": {
   "display_name": "base",
   "language": "python",
   "name": "python3"
  },
  "language_info": {
   "codemirror_mode": {
    "name": "ipython",
    "version": 3
   },
   "file_extension": ".py",
   "mimetype": "text/x-python",
   "name": "python",
   "nbconvert_exporter": "python",
   "pygments_lexer": "ipython3",
   "version": "3.11.7"
  }
 },
 "nbformat": 4,
 "nbformat_minor": 2
}
